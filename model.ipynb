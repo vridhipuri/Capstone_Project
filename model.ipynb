{
  "nbformat": 4,
  "nbformat_minor": 0,
  "metadata": {
    "colab": {
      "provenance": [],
      "gpuType": "T4",
      "include_colab_link": true
    },
    "kernelspec": {
      "name": "python3",
      "display_name": "Python 3"
    },
    "language_info": {
      "name": "python"
    },
    "accelerator": "GPU"
  },
  "cells": [
    {
      "cell_type": "markdown",
      "metadata": {
        "id": "view-in-github",
        "colab_type": "text"
      },
      "source": [
        "<a href=\"https://colab.research.google.com/github/vridhipuri/Capstone_Project/blob/master/model.ipynb\" target=\"_parent\"><img src=\"https://colab.research.google.com/assets/colab-badge.svg\" alt=\"Open In Colab\"/></a>"
      ]
    },
    {
      "cell_type": "code",
      "execution_count": null,
      "metadata": {
        "id": "pg9hviEJH6Ea"
      },
      "outputs": [],
      "source": [
        "from google.colab import drive\n",
        "drive.mount('/content/drive')"
      ]
    },
    {
      "cell_type": "code",
      "source": [
        "!pwd"
      ],
      "metadata": {
        "colab": {
          "base_uri": "https://localhost:8080/"
        },
        "id": "SiEh2BKzJIBV",
        "outputId": "002913ea-a54c-439d-eff2-81452b143c9d"
      },
      "execution_count": null,
      "outputs": [
        {
          "output_type": "stream",
          "name": "stdout",
          "text": [
            "/content\n"
          ]
        }
      ]
    },
    {
      "cell_type": "code",
      "source": [
        "import tensorflow as tf"
      ],
      "metadata": {
        "id": "ArLoUR47JWqG"
      },
      "execution_count": null,
      "outputs": []
    },
    {
      "cell_type": "code",
      "source": [
        "import keras"
      ],
      "metadata": {
        "id": "JclKypDWKkbi"
      },
      "execution_count": null,
      "outputs": []
    },
    {
      "cell_type": "code",
      "source": [
        "import cv2"
      ],
      "metadata": {
        "id": "UGfBfvLLKqnV"
      },
      "execution_count": null,
      "outputs": []
    },
    {
      "cell_type": "code",
      "source": [
        "import pandas as pd"
      ],
      "metadata": {
        "id": "UHf2o3YQKwaG"
      },
      "execution_count": null,
      "outputs": []
    },
    {
      "cell_type": "code",
      "source": [
        "import numpy as np\n",
        "import os\n",
        "from tqdm import tqdm"
      ],
      "metadata": {
        "id": "B5uDdP8DKz5D"
      },
      "execution_count": null,
      "outputs": []
    },
    {
      "cell_type": "code",
      "source": [
        "path=\"/content/drive/MyDrive/ImagePro\""
      ],
      "metadata": {
        "id": "m9A-I_fNLH70"
      },
      "execution_count": null,
      "outputs": []
    },
    {
      "cell_type": "code",
      "source": [
        "files=os.listdir(path)"
      ],
      "metadata": {
        "id": "SCrs3DYVLRj9"
      },
      "execution_count": null,
      "outputs": []
    },
    {
      "cell_type": "code",
      "source": [
        "files.sort()"
      ],
      "metadata": {
        "id": "Gejg148oLWe2"
      },
      "execution_count": null,
      "outputs": []
    },
    {
      "cell_type": "code",
      "source": [
        "image_array=[]\n",
        "label_array=[]"
      ],
      "metadata": {
        "id": "23QUNUtSNrRg"
      },
      "execution_count": null,
      "outputs": []
    },
    {
      "cell_type": "code",
      "source": [
        "#loop thru each file in files\n",
        "for i in tqdm(range(len(files))):\n",
        "    #list of image in each folder\n",
        "    sub_file=os.listdir(path+\"/\"+files[i])\n",
        "\n",
        "    #loop thru each sub folder\n",
        "    for j in range(len(sub_file)):\n",
        "        file_path=path+\"/\"+files[i]+\"/\"+sub_file[j]\n",
        "        image=cv2.imread(file_path)\n",
        "        image=cv2.resize(image,(96,96))\n",
        "        image=cv2.cvtColor(image,cv2.COLOR_BGR2RGB)\n",
        "        image_array.append(image)\n",
        "        label_array.append(i)\n"
      ],
      "metadata": {
        "colab": {
          "base_uri": "https://localhost:8080/"
        },
        "id": "EqvAGmvqNy1U",
        "outputId": "a0475721-d7e8-44fb-d0ea-de66b8f4e7d9"
      },
      "execution_count": null,
      "outputs": [
        {
          "output_type": "stream",
          "name": "stderr",
          "text": [
            "100%|██████████| 25/25 [00:54<00:00,  2.19s/it]\n"
          ]
        }
      ]
    },
    {
      "cell_type": "code",
      "source": [
        "image_array=np.array(image_array)\n",
        "label_array=np.array(label_array,dtype=\"float\")"
      ],
      "metadata": {
        "id": "pFNKQEP8N3Op"
      },
      "execution_count": null,
      "outputs": []
    },
    {
      "cell_type": "code",
      "source": [
        "from sklearn.model_selection import train_test_split\n",
        "X_train,X_test,Y_train,Y_test=train_test_split(image_array,label_array,test_size=0.15)\n",
        "#xtrain will have 85% images and xtest will have 15% images\n",
        "from keras import layers,callbacks,utils,applications,optimizers\n",
        "from keras.models import Sequential,Model,load_model"
      ],
      "metadata": {
        "id": "Oxep6ZVAOpoX"
      },
      "execution_count": null,
      "outputs": []
    },
    {
      "cell_type": "code",
      "source": [
        "del image_array,label_array"
      ],
      "metadata": {
        "id": "FXavEuLoO8wr"
      },
      "execution_count": null,
      "outputs": []
    },
    {
      "cell_type": "code",
      "source": [
        "import gc\n",
        "gc.collect()"
      ],
      "metadata": {
        "colab": {
          "base_uri": "https://localhost:8080/"
        },
        "id": "cAk4rZgPPBgY",
        "outputId": "b80b5f7d-e6dc-4d33-af7e-7e0e76c647be"
      },
      "execution_count": null,
      "outputs": [
        {
          "output_type": "execute_result",
          "data": {
            "text/plain": [
              "0"
            ]
          },
          "metadata": {},
          "execution_count": 36
        }
      ]
    },
    {
      "cell_type": "code",
      "source": [
        "model=Sequential()\n",
        "#add pretrained model to sequential model. adding EfficientNetB0\n",
        "pretrained_model=tf.keras.applications.EfficientNetB0(input_shape=(96,96,3),include_top=False)"
      ],
      "metadata": {
        "colab": {
          "base_uri": "https://localhost:8080/"
        },
        "id": "RDDcbBA8PFXp",
        "outputId": "1dcd70c6-056e-4b1d-e6cb-783932fce386"
      },
      "execution_count": null,
      "outputs": [
        {
          "output_type": "stream",
          "name": "stdout",
          "text": [
            "Downloading data from https://storage.googleapis.com/keras-applications/efficientnetb0_notop.h5\n",
            "16705208/16705208 [==============================] - 0s 0us/step\n"
          ]
        }
      ]
    },
    {
      "cell_type": "code",
      "source": [
        "model.add(pretrained_model)"
      ],
      "metadata": {
        "id": "UsgzOcDKPOTs"
      },
      "execution_count": null,
      "outputs": []
    },
    {
      "cell_type": "code",
      "source": [
        "#add pooling to model\n",
        "model.add(layers.GlobalAveragePooling2D())"
      ],
      "metadata": {
        "id": "mOffc0ckPUPo"
      },
      "execution_count": null,
      "outputs": []
    },
    {
      "cell_type": "code",
      "source": [
        "#add dropout to model\n",
        "#we add dropout to increase accuracy by reducing overfitting\n",
        "model.add(layers.Dropout(0.3))"
      ],
      "metadata": {
        "id": "28PMSqcDPZ-o"
      },
      "execution_count": null,
      "outputs": []
    },
    {
      "cell_type": "code",
      "source": [
        "#add dense layer as output\n",
        "model.add(layers.Dense(1))"
      ],
      "metadata": {
        "id": "ktYyG_t2PeP5"
      },
      "execution_count": null,
      "outputs": []
    },
    {
      "cell_type": "code",
      "source": [
        "model.build(input_shape=(None,96,96,3))"
      ],
      "metadata": {
        "id": "sjfAevpwPh_k"
      },
      "execution_count": null,
      "outputs": []
    },
    {
      "cell_type": "code",
      "source": [
        "model.summary()"
      ],
      "metadata": {
        "colab": {
          "base_uri": "https://localhost:8080/"
        },
        "id": "vGUmQ_n-Plg2",
        "outputId": "fad865c6-1bd1-4822-ec41-7e549e48670f"
      },
      "execution_count": null,
      "outputs": [
        {
          "output_type": "stream",
          "name": "stdout",
          "text": [
            "Model: \"sequential\"\n",
            "_________________________________________________________________\n",
            " Layer (type)                Output Shape              Param #   \n",
            "=================================================================\n",
            " efficientnetb0 (Functional  (None, 3, 3, 1280)        4049571   \n",
            " )                                                               \n",
            "                                                                 \n",
            " global_average_pooling2d (  (None, 1280)              0         \n",
            " GlobalAveragePooling2D)                                         \n",
            "                                                                 \n",
            " dropout (Dropout)           (None, 1280)              0         \n",
            "                                                                 \n",
            " dense (Dense)               (None, 1)                 1281      \n",
            "                                                                 \n",
            "=================================================================\n",
            "Total params: 4050852 (15.45 MB)\n",
            "Trainable params: 4008829 (15.29 MB)\n",
            "Non-trainable params: 42023 (164.16 KB)\n",
            "_________________________________________________________________\n"
          ]
        }
      ]
    },
    {
      "cell_type": "code",
      "source": [
        "#compile model\n",
        "model.compile(optimizer=\"adam\",loss=\"mae\",metrics=[\"mae\"])"
      ],
      "metadata": {
        "id": "WWLaxdlKPpke"
      },
      "execution_count": null,
      "outputs": []
    },
    {
      "cell_type": "code",
      "source": [
        "#create checkpoint to save best accuracy model\n",
        "ckp_path=\"trained_model/model\"\n",
        "model_checkpoint=tf.keras.callbacks.ModelCheckpoint(\n",
        "filepath=ckp_path,\n",
        "monitor=\"val_mae\",\n",
        "mode=\"auto\",\n",
        "save_best_only=True,\n",
        "save_weights_only=True)"
      ],
      "metadata": {
        "id": "lHjmqfcaPuHk"
      },
      "execution_count": null,
      "outputs": []
    },
    {
      "cell_type": "markdown",
      "source": [
        "1. monitor validates mae loss to save model- saves best model with least mae\n",
        "2. mode is used to save model when val_mae (validation mae) is min or max\n",
        "3. it has 3 options min,max,auto\n",
        "4. when val_mae is reduced model will be saved\n",
        "\n",
        "\n",
        "\n",
        "\n"
      ],
      "metadata": {
        "id": "UjVgrlcEP9Qu"
      }
    },
    {
      "cell_type": "code",
      "source": [
        "#create learning rate reducer to reduce lr when accuracy does not improve\n",
        "reduce_lr=tf.keras.callbacks.ReduceLROnPlateau(\n",
        "factor=0.9, monitor=\"val_mae\", mode=\"auto\",cooldown=0,patience=5,verbose=1,min_lr=1e-6)"
      ],
      "metadata": {
        "id": "PthbZJTYPyu-"
      },
      "execution_count": null,
      "outputs": []
    },
    {
      "cell_type": "markdown",
      "source": [
        "1. factor: when it is reduced, next lr will be 0.9 times of current\n",
        "2. patience=x\n",
        "3. reduce lr after x epochs when accuracy doesnt improve\n",
        "4. verbose- show it after every epoch\n",
        "5. min_lr- min learning rate"
      ],
      "metadata": {
        "id": "GWjv50RUQUwu"
      }
    },
    {
      "cell_type": "code",
      "source": [
        "#start training the model\n",
        "Epochs=100\n",
        "Batch_Size=32\n",
        "#select bath size acc to your graphic card"
      ],
      "metadata": {
        "id": "PKF_oIJUP3oE"
      },
      "execution_count": null,
      "outputs": []
    },
    {
      "cell_type": "code",
      "source": [
        "history=model.fit(X_train,\n",
        "                  Y_train,\n",
        "                  validation_data=(X_test,Y_test),\n",
        "                  batch_size=Batch_Size,\n",
        "                  epochs=Epochs,\n",
        "                  callbacks=[model_checkpoint,reduce_lr]\n",
        "                 )"
      ],
      "metadata": {
        "colab": {
          "base_uri": "https://localhost:8080/"
        },
        "id": "-64j3K4xQkqF",
        "outputId": "dda07304-4840-4afa-8a21-7dacdf3879bd"
      },
      "execution_count": null,
      "outputs": [
        {
          "output_type": "stream",
          "name": "stdout",
          "text": [
            "Epoch 1/100\n"
          ]
        }
      ]
    },
    {
      "cell_type": "code",
      "source": [
        "#after training load best model\n",
        "model.load_weights(ckp_path)"
      ],
      "metadata": {
        "colab": {
          "base_uri": "https://localhost:8080/"
        },
        "id": "WD_yKctwY2HM",
        "outputId": "3242f0f7-c3fd-419b-bb10-a3ac5674388b"
      },
      "execution_count": null,
      "outputs": [
        {
          "output_type": "execute_result",
          "data": {
            "text/plain": [
              "<tensorflow.python.checkpoint.checkpoint.CheckpointLoadStatus at 0x7fe5ce054e50>"
            ]
          },
          "metadata": {},
          "execution_count": 37
        }
      ]
    },
    {
      "cell_type": "code",
      "source": [
        "#convert model to tensorflow lite model\n",
        "converter=tf.lite.TFLiteConverter.from_keras_model(model)\n",
        "tflite_model=converter.convert()"
      ],
      "metadata": {
        "colab": {
          "base_uri": "https://localhost:8080/"
        },
        "id": "ocUwJ8FpZJas",
        "outputId": "5922480d-2327-41d3-b4d9-112fd17dbf80"
      },
      "execution_count": null,
      "outputs": [
        {
          "output_type": "stream",
          "name": "stderr",
          "text": [
            "WARNING:absl:Found untraced functions such as _jit_compiled_convolution_op, _jit_compiled_convolution_op, _jit_compiled_convolution_op, _jit_compiled_convolution_op, _jit_compiled_convolution_op while saving (showing 5 of 81). These functions will not be directly callable after loading.\n"
          ]
        }
      ]
    },
    {
      "cell_type": "code",
      "source": [
        "#save model\n",
        "with open(\"model.tflite\",\"wb\") as f:\n",
        "  f.write(tflite_model)"
      ],
      "metadata": {
        "id": "7ZWqPvyZZuLk"
      },
      "execution_count": null,
      "outputs": []
    },
    {
      "cell_type": "code",
      "source": [
        "#to see prediction result on test dataset\n",
        "prediction_val=model.predict(X_test,batch_size=32)"
      ],
      "metadata": {
        "colab": {
          "base_uri": "https://localhost:8080/"
        },
        "id": "P_kpOgbPaev3",
        "outputId": "f53519dc-da7b-4c0c-d094-a219bd7bbdca"
      },
      "execution_count": null,
      "outputs": [
        {
          "output_type": "stream",
          "name": "stdout",
          "text": [
            "54/54 [==============================] - 3s 19ms/step\n"
          ]
        }
      ]
    },
    {
      "cell_type": "code",
      "source": [
        "#print 1st 10 values\n",
        "print(prediction_val[:10])"
      ],
      "metadata": {
        "colab": {
          "base_uri": "https://localhost:8080/"
        },
        "id": "2HM0qLhEb8_t",
        "outputId": "d38aebe0-969e-4f45-ddd1-4856baa72c4e"
      },
      "execution_count": null,
      "outputs": [
        {
          "output_type": "stream",
          "name": "stdout",
          "text": [
            "[[ 9.109907 ]\n",
            " [23.973286 ]\n",
            " [ 9.100234 ]\n",
            " [10.111344 ]\n",
            " [12.99855  ]\n",
            " [13.970478 ]\n",
            " [19.911165 ]\n",
            " [23.008375 ]\n",
            " [21.00702  ]\n",
            " [12.9983015]]\n"
          ]
        }
      ]
    },
    {
      "cell_type": "code",
      "source": [
        "#print 1st 10 values of ytest\n",
        "print(Y_test[:10])"
      ],
      "metadata": {
        "colab": {
          "base_uri": "https://localhost:8080/"
        },
        "id": "2gsc38fTcQVq",
        "outputId": "5ed5f967-c1d5-4caa-be38-0c70bace46c8"
      },
      "execution_count": null,
      "outputs": [
        {
          "output_type": "stream",
          "name": "stdout",
          "text": [
            "[ 9. 24.  9. 10. 13. 14. 20. 23. 21. 13.]\n"
          ]
        }
      ]
    },
    {
      "cell_type": "markdown",
      "source": [
        "1. mae is on xtrain\n",
        "2. val mae: xtest\n",
        "if val_mae is reducing that means your model is improving"
      ],
      "metadata": {
        "id": "LoqQ3OPldBYN"
      }
    }
  ]
}